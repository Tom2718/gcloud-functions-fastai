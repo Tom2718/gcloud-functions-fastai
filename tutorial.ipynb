{
  "nbformat": 4,
  "nbformat_minor": 0,
  "metadata": {
    "colab": {
      "name": "tutorial.ipynb",
      "version": "0.3.2",
      "provenance": [],
      "collapsed_sections": [],
      "toc_visible": true
    },
    "kernelspec": {
      "name": "python3",
      "display_name": "Python 3"
    },
    "accelerator": "GPU"
  },
  "cells": [
    {
      "cell_type": "markdown",
      "metadata": {
        "id": "DAG1LtyNupEr",
        "colab_type": "text"
      },
      "source": [
        "# A short intro on deploying fastai models to Google Cloud functions\n",
        "\n",
        "https://github.com/ttumiel/gcloud-functions-fastai"
      ]
    },
    {
      "cell_type": "code",
      "metadata": {
        "id": "0cep3BDcmuiT",
        "colab_type": "code",
        "colab": {}
      },
      "source": [
        "%load_ext autoreload\n",
        "%autoreload 2"
      ],
      "execution_count": 0,
      "outputs": []
    },
    {
      "cell_type": "markdown",
      "metadata": {
        "id": "yCo4pXbrvKxl",
        "colab_type": "text"
      },
      "source": [
        "## Train a Movie Classifier"
      ]
    },
    {
      "cell_type": "code",
      "metadata": {
        "id": "NH6hMSNuuk_2",
        "colab_type": "code",
        "colab": {}
      },
      "source": [
        "from fastai.text import *"
      ],
      "execution_count": 0,
      "outputs": []
    },
    {
      "cell_type": "code",
      "metadata": {
        "id": "ij2IQd8fu1rs",
        "colab_type": "code",
        "colab": {}
      },
      "source": [
        "bs = 64\n",
        "path = untar_data(URLs.IMDB_SAMPLE)\n",
        "\n",
        "data_lm = (TextList.from_csv(path, \"texts.csv\", cols=[\"text\"])\n",
        "            .split_by_rand_pct(0.1)\n",
        "            .label_for_lm()           \n",
        "            .databunch(bs=bs))\n",
        "data_lm.save('data_lm.pkl')"
      ],
      "execution_count": 0,
      "outputs": []
    },
    {
      "cell_type": "code",
      "metadata": {
        "id": "Vcqmsx9UvWXI",
        "colab_type": "code",
        "outputId": "1448851a-3bf6-40c3-8718-1567dc495462",
        "colab": {
          "base_uri": "https://localhost:8080/",
          "height": 81
        }
      },
      "source": [
        "learn = language_model_learner(data_lm, AWD_LSTM, drop_mult=0.3)\n",
        "learn.fit_one_cycle(1, 1e-2, moms=(0.8,0.7))\n",
        "learn.save_encoder('fine_tuned_enc')"
      ],
      "execution_count": 4,
      "outputs": [
        {
          "output_type": "display_data",
          "data": {
            "text/html": [
              "<table border=\"1\" class=\"dataframe\">\n",
              "  <thead>\n",
              "    <tr style=\"text-align: left;\">\n",
              "      <th>epoch</th>\n",
              "      <th>train_loss</th>\n",
              "      <th>valid_loss</th>\n",
              "      <th>accuracy</th>\n",
              "      <th>time</th>\n",
              "    </tr>\n",
              "  </thead>\n",
              "  <tbody>\n",
              "    <tr>\n",
              "      <td>0</td>\n",
              "      <td>4.200028</td>\n",
              "      <td>3.914214</td>\n",
              "      <td>0.286129</td>\n",
              "      <td>00:11</td>\n",
              "    </tr>\n",
              "  </tbody>\n",
              "</table>"
            ],
            "text/plain": [
              "<IPython.core.display.HTML object>"
            ]
          },
          "metadata": {
            "tags": []
          }
        }
      ]
    },
    {
      "cell_type": "code",
      "metadata": {
        "id": "3rNu7SXTvXRj",
        "colab_type": "code",
        "colab": {}
      },
      "source": [
        "data_clas = (TextList.from_csv(path, \"texts.csv\", vocab=data_lm.vocab, cols=[\"text\"])\n",
        "             .split_from_df(2)\n",
        "             .label_from_df(0)\n",
        "             .databunch(bs=bs))"
      ],
      "execution_count": 0,
      "outputs": []
    },
    {
      "cell_type": "code",
      "metadata": {
        "id": "ziGEmKQavYqM",
        "colab_type": "code",
        "outputId": "13113e7a-5993-4185-bb96-035b900190e6",
        "colab": {
          "base_uri": "https://localhost:8080/",
          "height": 81
        }
      },
      "source": [
        "learn = text_classifier_learner(data_clas, AWD_LSTM, drop_mult=0.5)\n",
        "learn.load_encoder('fine_tuned_enc')\n",
        "learn.fit_one_cycle(1, 2e-2, moms=(0.8,0.7))"
      ],
      "execution_count": 6,
      "outputs": [
        {
          "output_type": "display_data",
          "data": {
            "text/html": [
              "<table border=\"1\" class=\"dataframe\">\n",
              "  <thead>\n",
              "    <tr style=\"text-align: left;\">\n",
              "      <th>epoch</th>\n",
              "      <th>train_loss</th>\n",
              "      <th>valid_loss</th>\n",
              "      <th>accuracy</th>\n",
              "      <th>time</th>\n",
              "    </tr>\n",
              "  </thead>\n",
              "  <tbody>\n",
              "    <tr>\n",
              "      <td>0</td>\n",
              "      <td>0.617859</td>\n",
              "      <td>0.646960</td>\n",
              "      <td>0.695000</td>\n",
              "      <td>00:07</td>\n",
              "    </tr>\n",
              "  </tbody>\n",
              "</table>"
            ],
            "text/plain": [
              "<IPython.core.display.HTML object>"
            ]
          },
          "metadata": {
            "tags": []
          }
        }
      ]
    },
    {
      "cell_type": "code",
      "metadata": {
        "id": "C6UQf3a5vYkL",
        "colab_type": "code",
        "outputId": "6315edb7-a381-4a60-a917-abfe92672aba",
        "colab": {
          "base_uri": "https://localhost:8080/",
          "height": 34
        }
      },
      "source": [
        "learn.predict(\"I really hated that movie, it was awful!\")"
      ],
      "execution_count": 7,
      "outputs": [
        {
          "output_type": "execute_result",
          "data": {
            "text/plain": [
              "(Category negative, tensor(0), tensor([0.5130, 0.4870]))"
            ]
          },
          "metadata": {
            "tags": []
          },
          "execution_count": 7
        }
      ]
    },
    {
      "cell_type": "markdown",
      "metadata": {
        "id": "uxk8591r0P9d",
        "colab_type": "text"
      },
      "source": [
        "## Test function that will be deployed"
      ]
    },
    {
      "cell_type": "code",
      "metadata": {
        "id": "jqipXcmn0cC4",
        "colab_type": "code",
        "outputId": "51434552-a4a5-4340-c9d6-3dbd37558a0b",
        "colab": {
          "base_uri": "https://localhost:8080/",
          "height": 121
        }
      },
      "source": [
        "!git clone https://github.com/ttumiel/gcloud-functions-fastai gcf"
      ],
      "execution_count": 9,
      "outputs": [
        {
          "output_type": "stream",
          "text": [
            "Cloning into 'gcf'...\n",
            "remote: Enumerating objects: 60, done.\u001b[K\n",
            "remote: Counting objects: 100% (60/60), done.\u001b[K\n",
            "remote: Compressing objects: 100% (32/32), done.\u001b[K\n",
            "remote: Total 60 (delta 27), reused 58 (delta 25), pack-reused 0\u001b[K\n",
            "Unpacking objects: 100% (60/60), done.\n"
          ],
          "name": "stdout"
        }
      ]
    },
    {
      "cell_type": "code",
      "metadata": {
        "id": "TWWGZhyz1gqZ",
        "colab_type": "code",
        "colab": {}
      },
      "source": [
        "learn.export(\"/content/gcf/data/export.pkl\")"
      ],
      "execution_count": 0,
      "outputs": []
    },
    {
      "cell_type": "code",
      "metadata": {
        "id": "QHbPm1LJjGmB",
        "colab_type": "code",
        "colab": {
          "base_uri": "https://localhost:8080/",
          "height": 34
        },
        "outputId": "8c4f788a-9c8a-4865-bb32-94dad30d2d40"
      },
      "source": [
        "%cd gcf"
      ],
      "execution_count": 13,
      "outputs": [
        {
          "output_type": "stream",
          "text": [
            "/content/gcf\n"
          ],
          "name": "stdout"
        }
      ]
    },
    {
      "cell_type": "code",
      "metadata": {
        "id": "7MrkFA1c2I6n",
        "colab_type": "code",
        "colab": {
          "base_uri": "https://localhost:8080/",
          "height": 69
        },
        "outputId": "ef4d5d15-974b-4861-acf4-5bea2d8f428a"
      },
      "source": [
        "from test import test_function\n",
        "from main import text_clas\n",
        "json_data = {\"data\": \"the movie was very good\"}\n",
        "test_function(text_clas, json_data)"
      ],
      "execution_count": 14,
      "outputs": [
        {
          "output_type": "execute_result",
          "data": {
            "text/plain": [
              "{'category': 'positive',\n",
              " 'position': 1,\n",
              " 'preds': [0.45273223519325256, 0.5472677946090698]}"
            ]
          },
          "metadata": {
            "tags": []
          },
          "execution_count": 14
        }
      ]
    },
    {
      "cell_type": "markdown",
      "metadata": {
        "id": "J8q-ZIQmpeaK",
        "colab_type": "text"
      },
      "source": [
        "## Deploy to gcloud functions\n",
        "\n",
        "To deploy your function, you will need a Google Cloud account with billing enabled. When you run `gcloud init`, you will have to log in to your account and create a new \"project\" for the deployment.\n",
        "\n",
        "1. Choose `[1] Re-initialize this configuration [default] with new settings`\n",
        "2. Type `Y`\n",
        "3. After logging int, copy and paste the verification code in the box.\n",
        "4. Create a new project noting down the region and the project name."
      ]
    },
    {
      "cell_type": "code",
      "metadata": {
        "id": "oY0R3jhMpibE",
        "colab_type": "code",
        "colab": {}
      },
      "source": [
        "!gcloud init"
      ],
      "execution_count": 0,
      "outputs": []
    },
    {
      "cell_type": "code",
      "metadata": {
        "id": "I21Gpayo2VHF",
        "colab_type": "code",
        "colab": {}
      },
      "source": [
        "# Deployment can take several minutes\n",
        "!gcloud functions deploy text_clas --runtime python37 --trigger-http --memory 512MB"
      ],
      "execution_count": 0,
      "outputs": []
    },
    {
      "cell_type": "markdown",
      "metadata": {
        "id": "GdqK0C0dsLRp",
        "colab_type": "text"
      },
      "source": [
        "Copy the URL from the output above and make a request. You can provide input data via two methods by default:\n",
        "\n",
        "- As a query string with the key `data`\n",
        "- As part of json data in a post request"
      ]
    },
    {
      "cell_type": "code",
      "metadata": {
        "id": "ilsk3vEc0bqz",
        "colab_type": "code",
        "colab": {
          "base_uri": "https://localhost:8080/",
          "height": 34
        },
        "outputId": "53779108-aab5-4013-c31a-adad73360e4b"
      },
      "source": [
        "!curl https://REGION-PROJECTNAME.cloudfunctions.net/text_clas?data=that%20movie%20was%20great"
      ],
      "execution_count": 21,
      "outputs": [
        {
          "output_type": "stream",
          "text": [
            "{\"category\":\"positive\",\"position\":1,\"preds\":[0.40685057640075684,0.5931494235992432]}\n"
          ],
          "name": "stdout"
        }
      ]
    },
    {
      "cell_type": "code",
      "metadata": {
        "id": "jfjOsCZQ0bfD",
        "colab_type": "code",
        "colab": {
          "base_uri": "https://localhost:8080/",
          "height": 34
        },
        "outputId": "bae6b43f-8a1b-4bec-a0a8-258d85f5c14d"
      },
      "source": [
        "!curl --data \"data=the movie was great\" https://REGION-PROJECTNAME.cloudfunctions.net/text_clas"
      ],
      "execution_count": 29,
      "outputs": [
        {
          "output_type": "stream",
          "text": [
            "{\"category\":\"positive\",\"position\":1,\"preds\":[0.40983322262763977,0.5901667475700378]}\n"
          ],
          "name": "stdout"
        }
      ]
    }
  ]
}
